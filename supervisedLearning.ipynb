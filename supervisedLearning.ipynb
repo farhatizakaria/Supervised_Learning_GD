{
 "cells": [
  {
   "cell_type": "code",
   "execution_count": 34,
   "metadata": {
    "scrolled": true
   },
   "outputs": [],
   "source": [
    "import matplotlib.pyplot as plt\n",
    "from numpy import *"
   ]
  },
  {
   "cell_type": "code",
   "execution_count": 35,
   "metadata": {
    "scrolled": true
   },
   "outputs": [
    {
     "data": {
      "text/plain": [
       "array([[ 1.,  2.],\n",
       "       [ 2.,  6.],\n",
       "       [ 3.,  7.],\n",
       "       [ 4., 11.],\n",
       "       [ 5.,  4.]])"
      ]
     },
     "execution_count": 35,
     "metadata": {},
     "output_type": "execute_result"
    }
   ],
   "source": [
    "points = genfromtxt('data.csv',delimiter=';')\n",
    "points"
   ]
  },
  {
   "cell_type": "code",
   "execution_count": 36,
   "metadata": {
    "scrolled": true
   },
   "outputs": [
    {
     "data": {
      "text/plain": [
       "Text(0, 0.5, 'Y AXIS')"
      ]
     },
     "execution_count": 36,
     "metadata": {},
     "output_type": "execute_result"
    },
    {
     "data": {
      "image/png": "[encoded data removed]",
      "text/plain": [
       "<Figure size 432x288 with 1 Axes>"
      ]
     },
     "metadata": {
      "needs_background": "light"
     },
     "output_type": "display_data"
    }
   ],
   "source": [
    "m = len(points)\n",
    "learning_rate = 0.001\n",
    "initial_theta0 = 1 # Y-intercept\n",
    "initial_theta1 = 2 # The sloop\n",
    "# The equation is h0(x) = 2x + 1\n",
    "# The equation is h0(x) = THETA1 * x + THETA0\n",
    "def ploting(points):\n",
    "    x_list = []\n",
    "    y_list = []\n",
    "    for i in range(len(points)):\n",
    "        x = points[i,0]\n",
    "        x_list.append(x)\n",
    "        y = points[i,1]\n",
    "        y_list.append(y)\n",
    "    return x_list, y_list\n",
    "x_list, y_list = ploting(points)\n",
    "x_array = array(x_list)\n",
    "y_array = array(y_list)\n",
    "h = initial_theta0 + initial_theta1 * x_array\n",
    "plt.scatter(x_list,y_list,c='r')\n",
    "plt.plot(x_list,h,c='g')\n",
    "plt.title('SCATTERD DATA')\n",
    "plt.xlabel('X AXIS')\n",
    "plt.ylabel('Y AXIS')"
   ]
  },
  {
   "cell_type": "code",
   "execution_count": 37,
   "metadata": {
    "scrolled": true
   },
   "outputs": [
    {
     "name": "stdout",
     "output_type": "stream",
     "text": [
      "5\n"
     ]
    }
   ],
   "source": [
    "print(m)# The numbers of rows in \"Points\""
   ]
  },
  {
   "cell_type": "code",
   "execution_count": 38,
   "metadata": {
    "scrolled": true
   },
   "outputs": [
    {
     "data": {
      "text/plain": [
       "5.5"
      ]
     },
     "execution_count": 38,
     "metadata": {},
     "output_type": "execute_result"
    }
   ],
   "source": [
    "def j_cost(theta0,theta1,points):\n",
    "    totalError = 0\n",
    "    for i in range(m):\n",
    "        x = points[i,0]\n",
    "        y = points[i,1]\n",
    "        h = 2 * x + 1\n",
    "        totalError += (h - y)**2\n",
    "    return totalError * (1 / (2 * len(points)))\n",
    "\n",
    "j_cost(initial_theta0,initial_theta1,points)"
   ]
  },
  {
   "cell_type": "code",
   "execution_count": 39,
   "metadata": {
    "scrolled": true
   },
   "outputs": [],
   "source": [
    "def gradient_descent(current_theta0, current_theta1, points, learning_rate):\n",
    "    theta0_gradient = 0\n",
    "    theta1_gradient = 0\n",
    "    for i in range(len(points)):\n",
    "        x = points[i,0]\n",
    "        y = points[i,1]\n",
    "        h = 2 * x + 1\n",
    "        theta0_gradient += (1/len(points))*(h-y)\n",
    "        theta1_gradient += (1/len(points))*((h-y)*x)\n",
    "    newTheta0 = current_theta0 - (learning_rate*theta0_gradient)\n",
    "    newTheta1 = current_theta1 - (learning_rate*theta1_gradient)\n",
    "    return newTheta0,newTheta1"
   ]
  },
  {
   "cell_type": "code",
   "execution_count": 40,
   "metadata": {
    "scrolled": true
   },
   "outputs": [
    {
     "data": {
      "text/plain": [
       "(0.999, 1.9948)"
      ]
     },
     "execution_count": 40,
     "metadata": {},
     "output_type": "execute_result"
    }
   ],
   "source": [
    "gradient_descent(initial_theta0, initial_theta1, points, learning_rate)"
   ]
  },
  {
   "cell_type": "code",
   "execution_count": 41,
   "metadata": {
    "scrolled": true
   },
   "outputs": [],
   "source": [
    "def runner_gd(startingTheta0, startingTheta1, points, learning_rate, num_iterations):\n",
    "    theta0 = startingTheta0\n",
    "    theta1 = startingTheta1\n",
    "    for i in range(num_iterations):\n",
    "        theta0, theta1  = gradient_descent(theta0, theta1, points, learning_rate)\n",
    "    return theta0, theta1"
   ]
  },
  {
   "cell_type": "code",
   "execution_count": 42,
   "metadata": {
    "scrolled": true
   },
   "outputs": [
    {
     "data": {
      "text/plain": [
       "(0.8999999999999999, 1.4799999999999907)"
      ]
     },
     "execution_count": 42,
     "metadata": {},
     "output_type": "execute_result"
    }
   ],
   "source": [
    "runner_gd(initial_theta0, initial_theta1, points, learning_rate, 100)"
   ]
  },
  {
   "cell_type": "code",
   "execution_count": 43,
   "metadata": {
    "scrolled": true
   },
   "outputs": [
    {
     "data": {
      "text/plain": [
       "[<matplotlib.lines.Line2D at 0xdc54cc8>]"
      ]
     },
     "execution_count": 43,
     "metadata": {},
     "output_type": "execute_result"
    },
    {
     "data": {
      "image/png": "[encoded data removed]",
      "text/plain": [
       "<Figure size 432x288 with 1 Axes>"
      ]
     },
     "metadata": {
      "needs_background": "light"
     },
     "output_type": "display_data"
    }
   ],
   "source": [
    "# LET'S PLOT OUR NEW MODULE :)\n",
    "\n",
    "newTheta0 = 0.8999999999999999\n",
    "newTheta1 = 1.4799999999999907\n",
    "\n",
    "xArray = array(x_list)\n",
    "yArray = array(y_list)\n",
    "h = newTheta0 + newTheta1 * xArray\n",
    "plt.title(\"AFTER 100 ITERATIONS\")\n",
    "plt.xlabel('X AXIS')\n",
    "plt.ylabel('Y AXIS')\n",
    "plt.scatter(xArray,yArray,c='g')\n",
    "plt.plot(xArray,h,c='y')"
   ]
  },
  {
   "cell_type": "code",
   "execution_count": null,
   "metadata": {
    "scrolled": true
   },
   "outputs": [],
   "source": []
  }
 ],
 "metadata": {
  "kernelspec": {
   "display_name": "Python 3",
   "language": "python",
   "name": "python3"
  },
  "language_info": {
   "codemirror_mode": {
    "name": "ipython",
    "version": 3
   },
   "file_extension": ".py",
   "mimetype": "text/x-python",
   "name": "python",
   "nbconvert_exporter": "python",
   "pygments_lexer": "ipython3",
   "version": "3.7.5"
  }
 },
 "nbformat": 4,
 "nbformat_minor": 2
}
